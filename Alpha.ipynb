{
 "cells": [
  {
   "cell_type": "code",
   "execution_count": null,
   "metadata": {
    "id": "wUISO0wWZhz5"
   },
   "outputs": [],
   "source": [
    "import requests\n",
    "from io import StringIO\n",
    "import matplotlib.pyplot as plt\n",
    "import csv\n",
    "import pandas as pd\n",
    "import numpy as np\n",
    "import folium\n",
    "import branca\n",
    "import branca.colormap as cm\n",
    "from branca.colormap import linear\n",
    "import geopandas\n",
    "from folium.features import GeoJsonTooltip"
   ]
  },
  {
   "cell_type": "code",
   "execution_count": null,
   "metadata": {
    "id": "PLXmUkM1ZoGs"
   },
   "outputs": [],
   "source": [
    "data = requests.get(\"https://raw.githubusercontent.com/allisol1/UMBC-CMSC631-Team6/refs/heads/main/ACS_5YR_Housing_Estimate_Data_by_County_2352642343660635057.csv\")\n",
    "df_h_full = pd.read_csv(StringIO(data.text))\n",
    "data = requests.get(\"https://raw.githubusercontent.com/allisol1/UMBC-CMSC636-Team6/refs/heads/main/DD_ACS_5-Year_Housing_Estimate_Data_by_County.csv\")\n",
    "df_keys = pd.read_csv(StringIO(data.text))\n",
    "data = requests.get(\"https://raw.githubusercontent.com/allisol1/UMBC-CMSC636-Team6/refs/heads/main/county_adjacency2024.txt\")\n",
    "df_adj = pd.read_csv(StringIO(data.text), sep='|')"
   ]
  },
  {
   "cell_type": "code",
   "execution_count": null,
   "metadata": {
    "id": "-iRDZa3lMTGx"
   },
   "outputs": [],
   "source": [
    "state_geojson = geopandas.read_file(\"ACS_5YR_Housing_Estimate_Data_by_State_1435040831713560726.geojson\")\n",
    "county_geojson = geopandas.read_file(\"ACS_5YR_Housing_Estimate_Data_by_County_318069920734049109.geojson\")"
   ]
  },
  {
   "cell_type": "code",
   "execution_count": null,
   "metadata": {
    "id": "snBrDKctRdc-"
   },
   "outputs": [],
   "source": [
    "county_geojson.head(5)"
   ]
  },
  {
   "cell_type": "code",
   "execution_count": null,
   "metadata": {
    "id": "5v-nmmXWptEQ"
   },
   "outputs": [],
   "source": [
    "cm.linear"
   ]
  },
  {
   "cell_type": "code",
   "execution_count": null,
   "metadata": {},
   "outputs": [],
   "source": [
    "# ideal_rent = int(input(\"Enter ideal rent price: \"))\n",
    "\n",
    "# base map, start at center of US\n",
    "m = folium.Map(location=[48, -102], zoom_start=4)\n",
    "\n",
    "# remove null values so that it can work with colormap\n",
    "county_geojson.B25058EST1 = county_geojson.B25058EST1.fillna(np.nan)\n",
    "county_geojson = county_geojson.dropna(subset=['B25058EST1'])\n",
    "\n",
    "# calculate difference of median rent and ideal rent\n",
    "county_geojson['IDEAL_RENT_DIFF'] = (county_geojson['B25058EST1'] - ideal_rent)\n",
    "\n",
    "# # sets color to difference from ideal rent price, may need to change indexes (>400, 400-499, 500-599, etc)\n",
    "# diverging_colormap = linear.PiYG_05.scale(\n",
    "#     county_geojson.IDEAL_RENT_DIFF.min(), county_geojson.IDEAL_RENT_DIFF.max()\n",
    "# )\n",
    "\n",
    "# sets color to rent price, need to change indexes (>400, 400-499, 500-599, etc)\n",
    "sequential_colormap = linear.Spectral_10.scale(\n",
    "    county_geojson.B25058EST1.min(), county_geojson.B25058EST1.max()\n",
    ")\n",
    "\n",
    "# # display legend for ideal rent difference\n",
    "# legend = cm.StepColormap(\n",
    "#     colors=diverging_colormap.colors,\n",
    "#     index=diverging_colormap.index,\n",
    "#     vmin=county_geojson.IDEAL_RENT_DIFF.min(),\n",
    "#     vmax=county_geojson.IDEAL_RENT_DIFF.max(),\n",
    "#     caption=\"Difference from Ideal Rent Price\"\n",
    "# )\n",
    "# m.add_child(legend)\n",
    "\n",
    "# display legend for median rent price\n",
    "legend = cm.StepColormap(\n",
    "    colors=sequential_colormap.colors,\n",
    "    index=sequential_colormap.index,\n",
    "    vmin=county_geojson.B25058EST1.min(),\n",
    "    vmax=county_geojson.B25058EST1.max(),\n",
    "    caption=\"Median Rent Price\"\n",
    ")\n",
    "m.add_child(legend)\n",
    "\n",
    "county_geojson.head(5)\n",
    "\n",
    "# # create choropleth for ideal rent difference\n",
    "# folium.GeoJson(\n",
    "#     county_geojson,\n",
    "#     name = \"IDEAL_RENT_DIFF\",\n",
    "#     style_function=lambda feature: {\n",
    "#         \"fillColor\": diverging_colormap(feature[\"properties\"][\"IDEAL_RENT_DIFF\"]),\n",
    "#         \"color\": \"black\",\n",
    "#         \"weight\": 1,\n",
    "#         \"fillOpacity\": 1\n",
    "#     },\n",
    "#     tooltip=GeoJsonTooltip(\n",
    "#        fields=[\"NAME\", \"B25058EST1\", \"IDEAL_RENT_DIFF\"],\n",
    "#        aliases=[\"County:\", \"Median Rent Price:\", \"Ideal Rent Difference:\"],\n",
    "#    )\n",
    "# ).add_to(m)\n",
    "\n",
    "# create choropleth for median rent price\n",
    "folium.GeoJson(\n",
    "    county_geojson,\n",
    "    name = \"B25058EST1\",\n",
    "    style_function=lambda feature: {\n",
    "        \"fillColor\": sequential_colormap(feature[\"properties\"][\"B25058EST1\"]),\n",
    "        \"color\": \"black\",\n",
    "        \"weight\": 1,\n",
    "        \"fillOpacity\": 1\n",
    "    },\n",
    "    tooltip=GeoJsonTooltip(\n",
    "       fields=[\"NAME\", \"B25058EST1\"],\n",
    "       aliases=[\"County:\", \"Median Rent Price:\"],\n",
    "   )\n",
    ").add_to(m)\n",
    "\n",
    "# display map\n",
    "m"
   ]
  },
  {
   "cell_type": "code",
   "execution_count": null,
   "metadata": {
    "id": "hM2iP_Tta0j4"
   },
   "outputs": [],
   "source": [
    "ideal_rent = int(input(\"Enter ideal rent price: \"))\n",
    "\n",
    "# base map, start at center of US\n",
    "m = folium.Map(location=[48, -102], zoom_start=4)\n",
    "\n",
    "# calculate difference of median rent and ideal rent\n",
    "state_geojson['IDEAL_RENT_DIFF'] = (state_geojson['B25058EST1'] - ideal_rent)\n",
    "\n",
    "# display new data\n",
    "state_geojson.head(10)\n",
    "\n",
    "# sets color to difference from ideal rent price, may need to change indexes (>400, 400-499, 500-599, etc)\n",
    "diverging_colormap = linear.PiYG_05.scale(\n",
    "    state_geojson.IDEAL_RENT_DIFF.min(), state_geojson.IDEAL_RENT_DIFF.max()\n",
    ")\n",
    "\n",
    "# sets color to rent price, need to change indexes (>400, 400-499, 500-599, etc)\n",
    "sequential_colormap = linear.Spectral_10.scale(\n",
    "    state_geojson.B25058EST1.min(), state_geojson.B25058EST1.max()\n",
    ")\n",
    "\n",
    "# display legend for ideal rent difference\n",
    "legend = cm.StepColormap(\n",
    "    colors=diverging_colormap.colors,\n",
    "    index=diverging_colormap.index,\n",
    "    vmin=state_geojson.IDEAL_RENT_DIFF.min(),\n",
    "    vmax=state_geojson.IDEAL_RENT_DIFF.max(),\n",
    "    caption=\"Difference from Ideal Rent Price\"\n",
    ")\n",
    "m.add_child(legend)\n",
    "\n",
    "# display legend for median rent price\n",
    "legend = cm.StepColormap(\n",
    "    colors=sequential_colormap.colors,\n",
    "    index=sequential_colormap.index,\n",
    "    vmin=state_geojson.B25058EST1.min(),\n",
    "    vmax=state_geojson.B25058EST1.max(),\n",
    "    caption=\"Median Rent Price\"\n",
    ")\n",
    "m.add_child(legend)\n",
    "\n",
    "# create choropleth ideal rent difference\n",
    "folium.GeoJson(\n",
    "    state_geojson,\n",
    "    name = \"Difference from Ideal Rent Price\",\n",
    "    style_function=lambda feature: {\n",
    "        \"fillColor\": diverging_colormap(feature[\"properties\"][\"IDEAL_RENT_DIFF\"]),\n",
    "        \"color\": \"black\",\n",
    "        \"weight\": 1,\n",
    "        \"fillOpacity\": 1\n",
    "    },\n",
    "    tooltip=GeoJsonTooltip(\n",
    "       fields=[\"NAME\", \"B25058EST1\", \"IDEAL_RENT_DIFF\"],\n",
    "       aliases=[\"State:\", \"Median Rent Price:\", \"Difference from Idea Rent Price:\"],\n",
    "   )\n",
    ").add_to(m)\n",
    "\n",
    "# create choropleth for median rent price\n",
    "folium.GeoJson(\n",
    "    state_geojson,\n",
    "    name = \"Median Rent Price\",\n",
    "    style_function=lambda feature: {\n",
    "        \"fillColor\": sequential_colormap(feature[\"properties\"][\"B25058EST1\"]),\n",
    "        \"color\": \"black\",\n",
    "        \"weight\": 1,\n",
    "        \"fillOpacity\": 1\n",
    "    },\n",
    "    tooltip=GeoJsonTooltip(\n",
    "       fields=[\"NAME\", \"B25058EST1\"],\n",
    "       aliases=[\"State:\", \"Median Rent:\"],\n",
    "   )\n",
    ").add_to(m)\n",
    "\n",
    "m.add_child(folium.LayerControl())\n",
    "\n",
    "# display map\n",
    "m"
   ]
  },
  {
   "cell_type": "code",
   "execution_count": null,
   "metadata": {
    "id": "O8KFDxQAZo5o"
   },
   "outputs": [],
   "source": [
    "df_keys"
   ]
  },
  {
   "cell_type": "code",
   "execution_count": null,
   "metadata": {
    "id": "7uyTS652Zszo"
   },
   "outputs": [],
   "source": [
    "df_h = county_geojson.loc[county_geojson['STATE_NAME'] == \"Maryland\",  ['GEOID', 'NAME', 'STUSAB','B25002EST1', 'B25002EST2', 'B25058EST1', 'B25032EST13']]\n",
    "df_h\n",
    "df_h['PCT_RENTER'] = (df_h['B25032EST13'] / df_h['B25002EST2']) * 100\n",
    "df_h"
   ]
  }
 ],
 "metadata": {
  "colab": {
   "provenance": []
  },
  "kernelspec": {
   "display_name": "Python 3 (ipykernel)",
   "language": "python",
   "name": "python3"
  },
  "language_info": {
   "codemirror_mode": {
    "name": "ipython",
    "version": 3
   },
   "file_extension": ".py",
   "mimetype": "text/x-python",
   "name": "python",
   "nbconvert_exporter": "python",
   "pygments_lexer": "ipython3",
   "version": "3.13.0"
  }
 },
 "nbformat": 4,
 "nbformat_minor": 4
}
